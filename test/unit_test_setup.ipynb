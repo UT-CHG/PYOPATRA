{
 "cells": [
  {
   "cell_type": "markdown",
   "id": "liquid-brazil",
   "metadata": {},
   "source": [
    "# Buoyancy Calculations\n",
    "\n",
    "## Test configuration 1, small particle oil in water"
   ]
  },
  {
   "cell_type": "code",
   "execution_count": 5,
   "id": "unnecessary-conditions",
   "metadata": {},
   "outputs": [],
   "source": [
    "import numpy as np"
   ]
  },
  {
   "cell_type": "code",
   "execution_count": 13,
   "id": "moving-place",
   "metadata": {},
   "outputs": [],
   "source": [
    "d = 0.0005\n",
    "orho = 858.0\n",
    "wrho = 998.2071\n",
    "delrho = orho - wrho\n",
    "wvisc = 0.00130877\n",
    "visc = 0.0013059\n",
    "g = -9.8\n",
    "sigma = 0.023"
   ]
  },
  {
   "cell_type": "code",
   "execution_count": 4,
   "id": "medium-layer",
   "metadata": {},
   "outputs": [
    {
     "data": {
      "text/plain": [
       "134.04346406465507"
      ]
     },
     "execution_count": 4,
     "metadata": {},
     "output_type": "execute_result"
    }
   ],
   "source": [
    "# ND\n",
    "nd = 4 * wrho * delrho * g * d**3 / (3 * visc**2)"
   ]
  },
  {
   "cell_type": "code",
   "execution_count": 10,
   "id": "mobile-consciousness",
   "metadata": {},
   "outputs": [
    {
     "data": {
      "text/plain": [
       "4.022917436868935"
      ]
     },
     "execution_count": 10,
     "metadata": {},
     "output_type": "execute_result"
    }
   ],
   "source": [
    "# Reynolds Number\n",
    "logR = -1.7095 + 1.33438 * np.log10(nd) - 0.11591 * np.log10(nd)**2\n",
    "R = 10**logR\n",
    "R"
   ]
  },
  {
   "cell_type": "code",
   "execution_count": 12,
   "id": "victorian-institution",
   "metadata": {},
   "outputs": [
    {
     "data": {
      "text/plain": [
       "0.010525927697382923"
      ]
     },
     "execution_count": 12,
     "metadata": {},
     "output_type": "execute_result"
    }
   ],
   "source": [
    "# Terminal Velocity\n",
    "UT = R * visc / (wrho * d)\n",
    "UT"
   ]
  },
  {
   "cell_type": "code",
   "execution_count": 15,
   "id": "british-consideration",
   "metadata": {},
   "outputs": [
    {
     "data": {
      "text/plain": [
       "3.296180248036054e-10"
      ]
     },
     "execution_count": 15,
     "metadata": {},
     "output_type": "execute_result"
    }
   ],
   "source": [
    "# Morton number\n",
    "M = g * visc**4 * delrho / (wrho**2 * sigma**3)\n",
    "M"
   ]
  },
  {
   "cell_type": "code",
   "execution_count": 17,
   "id": "neither-muslim",
   "metadata": {},
   "outputs": [
    {
     "data": {
      "text/plain": [
       "0.01493510413043478"
      ]
     },
     "execution_count": 17,
     "metadata": {},
     "output_type": "execute_result"
    }
   ],
   "source": [
    "# Eotovos numbers\n",
    "E05 = g * delrho * d**2 / sigma\n",
    "E05"
   ]
  },
  {
   "cell_type": "code",
   "execution_count": 18,
   "id": "entertaining-sweden",
   "metadata": {},
   "outputs": [
    {
     "data": {
      "text/plain": [
       "13.441593717391305"
      ]
     },
     "execution_count": 18,
     "metadata": {},
     "output_type": "execute_result"
    }
   ],
   "source": [
    "# Eotovos numbers\n",
    "E015 = g * delrho * 0.015**2 / sigma\n",
    "E015"
   ]
  },
  {
   "cell_type": "code",
   "execution_count": 20,
   "id": "oriented-pioneer",
   "metadata": {},
   "outputs": [
    {
     "data": {
      "text/plain": [
       "0.0053635079976646"
      ]
     },
     "execution_count": 20,
     "metadata": {},
     "output_type": "execute_result"
    }
   ],
   "source": [
    "# Diameter from H\n",
    "EO  = 3/4 * 59.3 * M**0.149 * (visc/wvisc)**0.14\n",
    "dH = np.sqrt(EO / (g * delrho) * sigma)\n",
    "dH"
   ]
  },
  {
   "cell_type": "code",
   "execution_count": 34,
   "id": "cultural-above",
   "metadata": {},
   "outputs": [
    {
     "data": {
      "text/plain": [
       "59.29999999999999"
      ]
     },
     "execution_count": 34,
     "metadata": {},
     "output_type": "execute_result"
    }
   ],
   "source": [
    "temp = g * delrho * dH**2 / sigma\n",
    "4/3 * temp * M**-0.149 * (visc / wvisc)**-0.14"
   ]
  },
  {
   "cell_type": "code",
   "execution_count": 25,
   "id": "extra-prescription",
   "metadata": {},
   "outputs": [
    {
     "data": {
      "text/plain": [
       "0.017986694144167818"
      ]
     },
     "execution_count": 25,
     "metadata": {},
     "output_type": "execute_result"
    }
   ],
   "source": [
    "# Critical Diameter\n",
    "\n",
    "a1 = 0.5\n",
    "b1 = np.log10(0.711 * np.sqrt(g * delrho / wrho))\n",
    "\n",
    "x1 = np.log10(dH)\n",
    "y1 = np.log10(visc / (wrho * dH) * M**-0.149 * (0.94*59.3**0.757 - 0.857))\n",
    "\n",
    "x2 = np.log10(0.015)\n",
    "H2 = 4/3 * E015 * M**-0.149 * (visc/wvisc)**-0.14\n",
    "y2 = np.log10(visc / (wrho * 0.015) * M**-0.149 * (3.42 * H2**0.441 - 0.857))\n",
    "\n",
    "a2 = (y2 - y1) / (x2 - x1)\n",
    "b2 = y1 - a2 * x1\n",
    "\n",
    "dc = 10**((b2 - b1) / (a1 - a2))\n",
    "dc"
   ]
  },
  {
   "cell_type": "markdown",
   "id": "forty-tribute",
   "metadata": {},
   "source": [
    "## Ellipsoid Particle, 10 mm"
   ]
  },
  {
   "cell_type": "code",
   "execution_count": 26,
   "id": "guided-merchant",
   "metadata": {},
   "outputs": [
    {
     "data": {
      "text/plain": [
       "5.974041652173913"
      ]
     },
     "execution_count": 26,
     "metadata": {},
     "output_type": "execute_result"
    }
   ],
   "source": [
    "EO10 = g * delrho * 0.01**2 / sigma\n",
    "EO10"
   ]
  },
  {
   "cell_type": "code",
   "execution_count": 29,
   "id": "greater-induction",
   "metadata": {},
   "outputs": [
    {
     "data": {
      "text/plain": [
       "0.11845922340015877"
      ]
     },
     "execution_count": 29,
     "metadata": {},
     "output_type": "execute_result"
    }
   ],
   "source": [
    "H10 = 4/3 * EO10 * M**-0.149 * (visc/wvisc)**-0.14\n",
    "J = 3.42 * H10**0.441\n",
    "visc / (wrho * 0.01) * M**-0.149 * (J - 0.857)"
   ]
  },
  {
   "cell_type": "markdown",
   "id": "comparative-hungary",
   "metadata": {},
   "source": [
    "## Spherical Cap Particle, 20 mm"
   ]
  },
  {
   "cell_type": "code",
   "execution_count": 30,
   "id": "dedicated-theta",
   "metadata": {},
   "outputs": [
    {
     "data": {
      "text/plain": [
       "23.89616660869565"
      ]
     },
     "execution_count": 30,
     "metadata": {},
     "output_type": "execute_result"
    }
   ],
   "source": [
    "EO20 = g * delrho * 0.02**2 / sigma\n",
    "EO20"
   ]
  },
  {
   "cell_type": "code",
   "execution_count": 51,
   "id": "colored-flavor",
   "metadata": {},
   "outputs": [
    {
     "data": {
      "text/plain": [
       "0.11797019910948671"
      ]
     },
     "execution_count": 51,
     "metadata": {},
     "output_type": "execute_result"
    }
   ],
   "source": [
    "0.711 * np.sqrt(g * 0.02 * delrho / wrho)"
   ]
  },
  {
   "cell_type": "code",
   "execution_count": null,
   "id": "protecting-prague",
   "metadata": {},
   "outputs": [],
   "source": []
  }
 ],
 "metadata": {
  "kernelspec": {
   "display_name": "Python 3",
   "language": "python",
   "name": "python3"
  },
  "language_info": {
   "codemirror_mode": {
    "name": "ipython",
    "version": 3
   },
   "file_extension": ".py",
   "mimetype": "text/x-python",
   "name": "python",
   "nbconvert_exporter": "python",
   "pygments_lexer": "ipython3",
   "version": "3.8.5"
  }
 },
 "nbformat": 4,
 "nbformat_minor": 5
}
