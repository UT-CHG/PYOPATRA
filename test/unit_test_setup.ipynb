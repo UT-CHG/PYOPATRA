{
 "cells": [
  {
   "cell_type": "markdown",
   "id": "suburban-imaging",
   "metadata": {},
   "source": [
    "# Buoyancy Calculations\n",
    "\n",
    "## Test configuration 1, small particle oil in water"
   ]
  },
  {
   "cell_type": "code",
   "execution_count": 1,
   "id": "personalized-lyric",
   "metadata": {},
   "outputs": [],
   "source": [
    "%matplotlib widget\n",
    "\n",
    "import numpy as np\n",
    "import matplotlib.pyplot as plt"
   ]
  },
  {
   "cell_type": "code",
   "execution_count": 2,
   "id": "complimentary-venice",
   "metadata": {},
   "outputs": [],
   "source": [
    "d = 0.0005\n",
    "orho = 858.0\n",
    "wrho = 998.2071\n",
    "delrho = orho - wrho\n",
    "wvisc = 1305.90172775e-6\n",
    "visc = 1.308767294838539e-03\n",
    "g = -9.8\n",
    "sigma = 0.023"
   ]
  },
  {
   "cell_type": "code",
   "execution_count": 3,
   "id": "mexican-footwear",
   "metadata": {},
   "outputs": [
    {
     "data": {
      "text/plain": [
       "133.45677288001536"
      ]
     },
     "execution_count": 3,
     "metadata": {},
     "output_type": "execute_result"
    }
   ],
   "source": [
    "# ND\n",
    "nd = 4.0 * wrho * delrho * g * d**3 / (3 * visc**2)\n",
    "nd"
   ]
  },
  {
   "cell_type": "code",
   "execution_count": 4,
   "id": "delayed-romantic",
   "metadata": {},
   "outputs": [
    {
     "data": {
      "text/plain": [
       "4.008095982211944"
      ]
     },
     "execution_count": 4,
     "metadata": {},
     "output_type": "execute_result"
    }
   ],
   "source": [
    "# Reynolds Number\n",
    "logR = -1.7095 + 1.33438 * np.log10(nd) - 0.11591 * np.log10(nd)**2\n",
    "R = 10**logR\n",
    "R"
   ]
  },
  {
   "cell_type": "code",
   "execution_count": 5,
   "id": "choice-security",
   "metadata": {},
   "outputs": [
    {
     "data": {
      "text/plain": [
       "0.010510173562365449"
      ]
     },
     "execution_count": 5,
     "metadata": {},
     "output_type": "execute_result"
    }
   ],
   "source": [
    "# Terminal Velocity\n",
    "UT = R * visc / (wrho * d)\n",
    "UT"
   ]
  },
  {
   "cell_type": "code",
   "execution_count": 6,
   "id": "absent-infection",
   "metadata": {},
   "outputs": [
    {
     "data": {
      "text/plain": [
       "3.3252247175369584e-10"
      ]
     },
     "execution_count": 6,
     "metadata": {},
     "output_type": "execute_result"
    }
   ],
   "source": [
    "# Morton number\n",
    "M = g * visc**4 * delrho / (wrho**2 * sigma**3)\n",
    "M"
   ]
  },
  {
   "cell_type": "code",
   "execution_count": 7,
   "id": "unique-victory",
   "metadata": {},
   "outputs": [
    {
     "data": {
      "text/plain": [
       "0.01493510413043478"
      ]
     },
     "execution_count": 7,
     "metadata": {},
     "output_type": "execute_result"
    }
   ],
   "source": [
    "# Eotovos numbers\n",
    "E05 = g * delrho * d**2 / sigma\n",
    "E05"
   ]
  },
  {
   "cell_type": "code",
   "execution_count": 8,
   "id": "moved-model",
   "metadata": {},
   "outputs": [
    {
     "data": {
      "text/plain": [
       "13.441593717391305"
      ]
     },
     "execution_count": 8,
     "metadata": {},
     "output_type": "execute_result"
    }
   ],
   "source": [
    "# Eotovos numbers\n",
    "E015 = g * delrho * 0.015**2 / sigma\n",
    "E015"
   ]
  },
  {
   "cell_type": "code",
   "execution_count": 9,
   "id": "technical-explorer",
   "metadata": {},
   "outputs": [
    {
     "data": {
      "text/plain": [
       "0.005368663147596897"
      ]
     },
     "execution_count": 9,
     "metadata": {},
     "output_type": "execute_result"
    }
   ],
   "source": [
    "# Diameter from H\n",
    "EO  = 3/4 * 59.3 * M**0.149 * (visc/wvisc)**0.14\n",
    "dH = np.sqrt(EO / (g * delrho) * sigma)\n",
    "dH"
   ]
  },
  {
   "cell_type": "code",
   "execution_count": 10,
   "id": "inclusive-roman",
   "metadata": {},
   "outputs": [
    {
     "data": {
      "text/plain": [
       "59.299999999999976"
      ]
     },
     "execution_count": 10,
     "metadata": {},
     "output_type": "execute_result"
    }
   ],
   "source": [
    "temp = g * delrho * dH**2 / sigma\n",
    "4/3 * temp * M**-0.149 * (visc / wvisc)**-0.14"
   ]
  },
  {
   "cell_type": "code",
   "execution_count": 11,
   "id": "referenced-bench",
   "metadata": {},
   "outputs": [
    {
     "data": {
      "text/plain": [
       "0.01798749114892274"
      ]
     },
     "execution_count": 11,
     "metadata": {},
     "output_type": "execute_result"
    }
   ],
   "source": [
    "# Critical Diameter\n",
    "\n",
    "a1 = 0.5\n",
    "b1 = np.log10(0.711 * np.sqrt(g * delrho / wrho))\n",
    "\n",
    "x1 = np.log10(dH)\n",
    "y1 = np.log10(visc / (wrho * dH) * M**-0.149 * (0.94*59.3**0.757 - 0.857))\n",
    "\n",
    "x2 = np.log10(0.015)\n",
    "H2 = 4/3 * E015 * M**-0.149 * (visc/wvisc)**-0.14\n",
    "y2 = np.log10(visc / (wrho * 0.015) * M**-0.149 * (3.42 * H2**0.441 - 0.857))\n",
    "\n",
    "a2 = (y2 - y1) / (x2 - x1)\n",
    "b2 = y1 - a2 * x1\n",
    "\n",
    "dc = 10**((b2 - b1) / (a1 - a2))\n",
    "dc"
   ]
  },
  {
   "cell_type": "markdown",
   "id": "complimentary-savings",
   "metadata": {},
   "source": [
    "## Ellipsoid Particle, 10 mm"
   ]
  },
  {
   "cell_type": "code",
   "execution_count": 12,
   "id": "synthetic-charger",
   "metadata": {},
   "outputs": [
    {
     "data": {
      "text/plain": [
       "5.974041652173913"
      ]
     },
     "execution_count": 12,
     "metadata": {},
     "output_type": "execute_result"
    }
   ],
   "source": [
    "EO10 = g * delrho * 0.01**2 / sigma\n",
    "EO10"
   ]
  },
  {
   "cell_type": "code",
   "execution_count": 13,
   "id": "advisory-direction",
   "metadata": {},
   "outputs": [
    {
     "data": {
      "text/plain": [
       "0.11846135362594433"
      ]
     },
     "execution_count": 13,
     "metadata": {},
     "output_type": "execute_result"
    }
   ],
   "source": [
    "H10 = 4/3 * EO10 * M**-0.149 * (visc/wvisc)**-0.14\n",
    "J = 3.42 * H10**0.441\n",
    "visc / (wrho * 0.01) * M**-0.149 * (J - 0.857)"
   ]
  },
  {
   "cell_type": "markdown",
   "id": "thirty-richardson",
   "metadata": {},
   "source": [
    "## Spherical Cap Particle, 20 mm"
   ]
  },
  {
   "cell_type": "code",
   "execution_count": 14,
   "id": "worth-tractor",
   "metadata": {},
   "outputs": [
    {
     "data": {
      "text/plain": [
       "23.89616660869565"
      ]
     },
     "execution_count": 14,
     "metadata": {},
     "output_type": "execute_result"
    }
   ],
   "source": [
    "EO20 = g * delrho * 0.02**2 / sigma\n",
    "EO20"
   ]
  },
  {
   "cell_type": "code",
   "execution_count": 15,
   "id": "backed-garlic",
   "metadata": {},
   "outputs": [
    {
     "data": {
      "text/plain": [
       "0.11797019910948671"
      ]
     },
     "execution_count": 15,
     "metadata": {},
     "output_type": "execute_result"
    }
   ],
   "source": [
    "0.711 * np.sqrt(g * 0.02 * delrho / wrho)"
   ]
  },
  {
   "cell_type": "markdown",
   "id": "gentle-india",
   "metadata": {},
   "source": [
    "# Barycentric Coordinates"
   ]
  },
  {
   "cell_type": "code",
   "execution_count": 16,
   "id": "happy-equality",
   "metadata": {},
   "outputs": [
    {
     "data": {
      "text/plain": [
       "array([-89.486445 ,  30.0822685,   4.       ])"
      ]
     },
     "execution_count": 16,
     "metadata": {},
     "output_type": "execute_result"
    }
   ],
   "source": [
    "a = np.array((-89.4717160000, 30.0866470000, 3.0000000000))\n",
    "b = np.array((-89.4966660000, 30.0901150000, 3.9491493700))\n",
    "c = np.array((-89.4889400000, 30.0744220000, 1.9666023300))\n",
    "p = np.array((c[0] + 0.1 * (a[0] - b[0]), c[1] + 0.5 * (b[1] - c[1]), 4))\n",
    "p"
   ]
  },
  {
   "cell_type": "code",
   "execution_count": 17,
   "id": "framed-swift",
   "metadata": {},
   "outputs": [
    {
     "data": {
      "application/vnd.jupyter.widget-view+json": {
       "model_id": "b192dd184f2e4d59935328770a7b7d07",
       "version_major": 2,
       "version_minor": 0
      },
      "text/plain": [
       "Canvas(toolbar=Toolbar(toolitems=[('Home', 'Reset original view', 'home', 'home'), ('Back', 'Back to previous …"
      ]
     },
     "metadata": {},
     "output_type": "display_data"
    }
   ],
   "source": [
    "plt.scatter(a[0], a[1], label='A')\n",
    "plt.scatter(b[0], b[1], label='B')\n",
    "plt.scatter(c[0], c[1], label='C')\n",
    "plt.scatter(p[0], p[1], label='P')\n",
    "plt.legend()\n",
    "plt.show()"
   ]
  },
  {
   "cell_type": "code",
   "execution_count": 18,
   "id": "indirect-latin",
   "metadata": {},
   "outputs": [],
   "source": [
    "pq = np.array((0, 0, 1))\n",
    "pa = a - p\n",
    "pb = b - p\n",
    "pc = c - p"
   ]
  },
  {
   "cell_type": "code",
   "execution_count": 19,
   "id": "pleasant-dictionary",
   "metadata": {},
   "outputs": [
    {
     "data": {
      "text/plain": [
       "-9.977609399998197e-05"
      ]
     },
     "execution_count": 19,
     "metadata": {},
     "output_type": "execute_result"
    }
   ],
   "source": [
    "u = np.dot(np.cross(pq, pc), pb)\n",
    "u"
   ]
  },
  {
   "cell_type": "code",
   "execution_count": 20,
   "id": "subject-liver",
   "metadata": {},
   "outputs": [
    {
     "data": {
      "text/plain": [
       "-0.00010464674100002578"
      ]
     },
     "execution_count": 20,
     "metadata": {},
     "output_type": "execute_result"
    }
   ],
   "source": [
    "v = np.dot(np.cross(pq, pa), pc)\n",
    "v"
   ]
  },
  {
   "cell_type": "code",
   "execution_count": 21,
   "id": "infectious-bobby",
   "metadata": {},
   "outputs": [
    {
     "data": {
      "text/plain": [
       "-0.00016032374700008492"
      ]
     },
     "execution_count": 21,
     "metadata": {},
     "output_type": "execute_result"
    }
   ],
   "source": [
    "w = np.dot(np.cross(pq, pb), pa)\n",
    "w"
   ]
  },
  {
   "cell_type": "code",
   "execution_count": 22,
   "id": "touched-quarter",
   "metadata": {},
   "outputs": [
    {
     "data": {
      "text/plain": [
       "-0.00036474658200009264"
      ]
     },
     "execution_count": 22,
     "metadata": {},
     "output_type": "execute_result"
    }
   ],
   "source": [
    "denom = u + v + w\n",
    "denom"
   ]
  },
  {
   "cell_type": "code",
   "execution_count": 23,
   "id": "intermediate-broadway",
   "metadata": {},
   "outputs": [
    {
     "data": {
      "text/plain": [
       "array([0.27354909, 0.2869026 , 0.43954832])"
      ]
     },
     "execution_count": 23,
     "metadata": {},
     "output_type": "execute_result"
    }
   ],
   "source": [
    "bc = np.array((u/denom, v/denom, w/denom))\n",
    "bc"
   ]
  },
  {
   "cell_type": "code",
   "execution_count": 24,
   "id": "fifteen-catholic",
   "metadata": {},
   "outputs": [
    {
     "data": {
      "text/plain": [
       "1.0"
      ]
     },
     "execution_count": 24,
     "metadata": {},
     "output_type": "execute_result"
    }
   ],
   "source": [
    "sum(bc)"
   ]
  },
  {
   "cell_type": "code",
   "execution_count": 25,
   "id": "metropolitan-evidence",
   "metadata": {},
   "outputs": [
    {
     "data": {
      "text/plain": [
       "array([-89.486445  ,  30.0822685 ,   2.81808521])"
      ]
     },
     "execution_count": 25,
     "metadata": {},
     "output_type": "execute_result"
    }
   ],
   "source": [
    "q = bc[0] * a + bc[1] * b + bc[2] * c\n",
    "q"
   ]
  },
  {
   "cell_type": "code",
   "execution_count": 26,
   "id": "loose-recipient",
   "metadata": {},
   "outputs": [
    {
     "data": {
      "text/plain": [
       "array([-89.486445 ,  30.0822685,   4.       ])"
      ]
     },
     "execution_count": 26,
     "metadata": {},
     "output_type": "execute_result"
    }
   ],
   "source": [
    "p"
   ]
  },
  {
   "cell_type": "code",
   "execution_count": 27,
   "id": "right-module",
   "metadata": {},
   "outputs": [
    {
     "data": {
      "application/vnd.jupyter.widget-view+json": {
       "model_id": "8ba289045ece41f7a538c05ec81d8b64",
       "version_major": 2,
       "version_minor": 0
      },
      "text/plain": [
       "Canvas(toolbar=Toolbar(toolitems=[('Home', 'Reset original view', 'home', 'home'), ('Back', 'Back to previous …"
      ]
     },
     "metadata": {},
     "output_type": "display_data"
    }
   ],
   "source": [
    "from mpl_toolkits.mplot3d.art3d import Poly3DCollection\n",
    "\n",
    "fig = plt.figure()\n",
    "ax = fig.add_subplot(111, projection='3d')\n",
    "\n",
    "ax.scatter(*a, color='black')\n",
    "ax.scatter(*b, color='black')\n",
    "ax.scatter(*c, color='black')\n",
    "ax.scatter(*p, color='red')\n",
    "ax.scatter(*q, color='blue')\n",
    "\n",
    "ax.add_collection3d(Poly3DCollection([a, b, c], alpha=0.25))"
   ]
  },
  {
   "cell_type": "code",
   "execution_count": 28,
   "id": "armed-implementation",
   "metadata": {},
   "outputs": [
    {
     "data": {
      "text/plain": [
       "1005.2828979957392"
      ]
     },
     "execution_count": 28,
     "metadata": {},
     "output_type": "execute_result"
    }
   ],
   "source": [
    "998 * bc[0] + 1005 * bc[1] + 1010 * bc[2]"
   ]
  },
  {
   "cell_type": "code",
   "execution_count": null,
   "id": "three-census",
   "metadata": {},
   "outputs": [],
   "source": []
  }
 ],
 "metadata": {
  "kernelspec": {
   "display_name": "Python 3",
   "language": "python",
   "name": "python3"
  },
  "language_info": {
   "codemirror_mode": {
    "name": "ipython",
    "version": 3
   },
   "file_extension": ".py",
   "mimetype": "text/x-python",
   "name": "python",
   "nbconvert_exporter": "python",
   "pygments_lexer": "ipython3",
   "version": "3.8.8"
  }
 },
 "nbformat": 4,
 "nbformat_minor": 5
}
