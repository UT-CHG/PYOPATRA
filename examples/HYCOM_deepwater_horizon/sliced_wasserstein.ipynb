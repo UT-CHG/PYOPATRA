{
 "cells": [
  {
   "cell_type": "code",
   "execution_count": 1,
   "id": "b8107d8d",
   "metadata": {},
   "outputs": [],
   "source": [
    "import os\n",
    "from datetime import date, timedelta\n",
    "from configparser import ConfigParser\n",
    "import h5py\n",
    "import numpy as np\n",
    "import matplotlib.pyplot as plt\n",
    "import scipy.stats as st\n",
    "\n",
    "from PYOPATRA import *\n"
   ]
  },
  {
   "cell_type": "code",
   "execution_count": 2,
   "id": "b043ffea",
   "metadata": {},
   "outputs": [],
   "source": [
    "# Configuration settings\n",
    "# In hours\n",
    "time_delta = 1\n",
    "# Particle release per timedelta\n",
    "num_particles = 10\n",
    "# True particle release location\n",
    "true_particle_lon = -88.365997\n",
    "true_particle_lat = 28.736628\n",
    "# Starting particle release location\n",
    "particle_lon = -88.0\n",
    "particle_lat = 28.6\n",
    "prev_loc = np.array((particle_lat, particle_lon))\n",
    "proposed_loc = np.array((particle_lat, particle_lon))\n",
    "# Time elapsed\n",
    "total_days = 8 * 7\n",
    "total_time_steps = int(24 / time_delta * total_days) - 4\n",
    "# When to add particles (time steps, not hours)\n",
    "add_particles_time_step_interval = 3\n",
    "# How frequently to save particles (time steps, not hours)\n",
    "particle_save_interval = 3\n",
    "# Number of Particles at the end\n",
    "total_particles = (total_time_steps // add_particles_time_step_interval + 1) * num_particles\n",
    "# Frame interval\n",
    "frame_interval = 3\n",
    "# For the Wasserstein investigation\n",
    "num_to_try = 1000\n",
    "obj_values = np.zeros(num_to_try)\n",
    "num_proj = 100\n",
    "\n",
    "times = ['000', '003', '006', '009', '012', '015', '018', '021']\n",
    "start_date = date(2010, 4, 20)"
   ]
  },
  {
   "cell_type": "code",
   "execution_count": 3,
   "id": "782dfd2f",
   "metadata": {},
   "outputs": [
    {
     "name": "stdout",
     "output_type": "stream",
     "text": [
      "Reading HYCOM files....\n"
     ]
    }
   ],
   "source": [
    "hycom_files = []\n",
    "\n",
    "for days_since_start in range(total_days):\n",
    "    date = start_date + timedelta(days=days_since_start)\n",
    "\n",
    "    for time_index, time_str in enumerate(times):\n",
    "        file = 'data/hycom_gomu_501_{}{:02d}{:02d}00_t{}.nc'.format(date.year, date.month, date.day, time_str)\n",
    "        hycom_files.append(file)\n",
    "\n",
    "print('Reading HYCOM files....')\n",
    "# Read HYCOM files\n",
    "hfp = HYCOMFileParser()\n",
    "hfp.read(hycom_files, diffusion_coefficient=10.0)"
   ]
  },
  {
   "cell_type": "code",
   "execution_count": 4,
   "id": "f3cbf422",
   "metadata": {},
   "outputs": [
    {
     "name": "stdout",
     "output_type": "stream",
     "text": [
      "Setting up mesh...\n",
      "372600 187186 [90288. 90291. 90294. 90297. 90300. 90303. 90306. 90309. 90312. 90315.\n",
      " 90318. 90321. 90324. 90327. 90330. 90333. 90336. 90339. 90342. 90345.\n",
      " 90348. 90351. 90354. 90357. 90360. 90363. 90366. 90369. 90372. 90375.\n",
      " 90378. 90381. 90384. 90387. 90390. 90393. 90396. 90399. 90402. 90405.\n",
      " 90408. 90411. 90414. 90417. 90420. 90423. 90426. 90429. 90432. 90435.\n",
      " 90438. 90441. 90444. 90447. 90450. 90453. 90456. 90459. 90462. 90465.\n",
      " 90468. 90471. 90474. 90477. 90480. 90483. 90486. 90489. 90492. 90495.\n",
      " 90498. 90501. 90504. 90507. 90510. 90513. 90516. 90519. 90522. 90525.\n",
      " 90528. 90531. 90534. 90537. 90540. 90543. 90546. 90549. 90552. 90555.\n",
      " 90558. 90561. 90564. 90567. 90570. 90573. 90576. 90579. 90582. 90585.\n",
      " 90588. 90591. 90594. 90597. 90600. 90603. 90606. 90609. 90612. 90615.\n",
      " 90618. 90621. 90624. 90627. 90630. 90633. 90636. 90639. 90642. 90645.\n",
      " 90648. 90651. 90654. 90657. 90660. 90663. 90666. 90669. 90672. 90675.\n",
      " 90678. 90681. 90684. 90687. 90690. 90693. 90696. 90699. 90702. 90705.\n",
      " 90708. 90711. 90714. 90717. 90720. 90723. 90726. 90729. 90732. 90735.\n",
      " 90738. 90741. 90744. 90747. 90750. 90753. 90756. 90759. 90762. 90765.\n",
      " 90768. 90771. 90774. 90777. 90780. 90783. 90786. 90789. 90792. 90795.\n",
      " 90798. 90801. 90804. 90807. 90810. 90813. 90816. 90819. 90822. 90825.\n",
      " 90828. 90831. 90834. 90837. 90840. 90843. 90846. 90849. 90852. 90855.\n",
      " 90858. 90861. 90864. 90867. 90870. 90873. 90876. 90879. 90882. 90885.\n",
      " 90888. 90891. 90894. 90897. 90900. 90903. 90906. 90909. 90912. 90915.\n",
      " 90918. 90921. 90924. 90927. 90930. 90933. 90936. 90939. 90942. 90945.\n",
      " 90948. 90951. 90954. 90957. 90960. 90963. 90966. 90969. 90972. 90975.\n",
      " 90978. 90981. 90984. 90987. 90990. 90993. 90996. 90999. 91002. 91005.\n",
      " 91008. 91011. 91014. 91017. 91020. 91023. 91026. 91029. 91032. 91035.\n",
      " 91038. 91041. 91044. 91047. 91050. 91053. 91056. 91059. 91062. 91065.\n",
      " 91068. 91071. 91074. 91077. 91080. 91083. 91086. 91089. 91092. 91095.\n",
      " 91098. 91101. 91104. 91107. 91110. 91113. 91116. 91119. 91122. 91125.\n",
      " 91128. 91131. 91134. 91137. 91140. 91143. 91146. 91149. 91152. 91155.\n",
      " 91158. 91161. 91164. 91167. 91170. 91173. 91176. 91179. 91182. 91185.\n",
      " 91188. 91191. 91194. 91197. 91200. 91203. 91206. 91209. 91212. 91215.\n",
      " 91218. 91221. 91224. 91227. 91230. 91233. 91236. 91239. 91242. 91245.\n",
      " 91248. 91251. 91254. 91257. 91260. 91263. 91266. 91269. 91272. 91275.\n",
      " 91278. 91281. 91284. 91287. 91290. 91293. 91296. 91299. 91302. 91305.\n",
      " 91308. 91311. 91314. 91317. 91320. 91323. 91326. 91329. 91332. 91335.\n",
      " 91338. 91341. 91344. 91347. 91350. 91353. 91356. 91359. 91362. 91365.\n",
      " 91368. 91371. 91374. 91377. 91380. 91383. 91386. 91389. 91392. 91395.\n",
      " 91398. 91401. 91404. 91407. 91410. 91413. 91416. 91419. 91422. 91425.\n",
      " 91428. 91431. 91434. 91437. 91440. 91443. 91446. 91449. 91452. 91455.\n",
      " 91458. 91461. 91464. 91467. 91470. 91473. 91476. 91479. 91482. 91485.\n",
      " 91488. 91491. 91494. 91497. 91500. 91503. 91506. 91509. 91512. 91515.\n",
      " 91518. 91521. 91524. 91527. 91530. 91533. 91536. 91539. 91542. 91545.\n",
      " 91548. 91551. 91554. 91557. 91560. 91563. 91566. 91569. 91572. 91575.\n",
      " 91578. 91581. 91584. 91587. 91590. 91593. 91596. 91599. 91602. 91605.\n",
      " 91608. 91611. 91614. 91617. 91620. 91623. 91626. 91629.]\n"
     ]
    }
   ],
   "source": [
    "print('Setting up mesh...')\n",
    "# Set up 2D Triangular Mesh\n",
    "tm2d = TriangularMesh2D()\n",
    "tm2d.setup_mesh(hfp, 2)"
   ]
  },
  {
   "cell_type": "code",
   "execution_count": 7,
   "id": "ea0303d3",
   "metadata": {},
   "outputs": [],
   "source": [
    "# Set up objective function\n",
    "with h5py.File(\"data/observed_particles.hdf5\", \"r\") as fp:\n",
    "    obs_particles_temp = fp['particles'][:, :]\n",
    "\n",
    "obs_particles = obs_particles_temp[~np.all(obs_particles_temp == 0, axis=1)]"
   ]
  },
  {
   "cell_type": "code",
   "execution_count": 8,
   "id": "a940fd32",
   "metadata": {},
   "outputs": [
    {
     "name": "stdout",
     "output_type": "stream",
     "text": [
      "Time stepping...\n"
     ]
    }
   ],
   "source": [
    "print('Time stepping...')\n",
    "current_num_particles = 0\n",
    "frame = 0\n",
    "# Time stepping\n",
    "for i in range(total_time_steps):\n",
    "    # print('Time step {}'.format(i))\n",
    "\n",
    "    # Inject more particles\n",
    "    if i % add_particles_time_step_interval == 0:\n",
    "        for j in range(num_particles):\n",
    "            tm2d.append_particle(proposed_loc)\n",
    "            current_num_particles += 1\n",
    "\n",
    "    tm2d.time_step(time_delta)"
   ]
  },
  {
   "cell_type": "code",
   "execution_count": 18,
   "id": "09de9706",
   "metadata": {},
   "outputs": [
    {
     "name": "stdout",
     "output_type": "stream",
     "text": [
      "1000\n",
      "0\n",
      "100\n",
      "200\n",
      "300\n",
      "400\n",
      "2000\n",
      "0\n",
      "100\n",
      "200\n",
      "300\n",
      "400\n",
      "3000\n",
      "0\n",
      "100\n",
      "200\n",
      "300\n",
      "400\n",
      "4000\n",
      "0\n",
      "100\n",
      "200\n",
      "300\n",
      "400\n",
      "5000\n",
      "0\n",
      "100\n",
      "200\n",
      "300\n",
      "400\n",
      "6000\n",
      "0\n",
      "100\n",
      "200\n",
      "300\n",
      "400\n",
      "7000\n",
      "0\n",
      "100\n",
      "200\n",
      "300\n",
      "400\n",
      "8000\n",
      "0\n",
      "100\n",
      "200\n",
      "300\n",
      "400\n",
      "9000\n",
      "0\n",
      "100\n",
      "200\n",
      "300\n",
      "400\n"
     ]
    }
   ],
   "source": [
    "obj_values = np.zeros((500, 10))\n",
    "\n",
    "for i in range(1000, 10000, 1000):\n",
    "    print(i)\n",
    "    tm2d.setup_objective_function(obs_particles,\n",
    "                              num_bins_lat_long=[700, 1000],\n",
    "                              bounds=[hfp.latitude[0], hfp.latitude[-1], hfp.longitude[0], hfp.longitude[-1]],\n",
    "                              num_proj=i)\n",
    "    \n",
    "    for j in range(500):\n",
    "        if j % 100 == 0:\n",
    "            print(j)\n",
    "        obj_values[j, (i - 1000) // 1000] = tm2d.get_objective_value()\n",
    "        "
   ]
  },
  {
   "cell_type": "code",
   "execution_count": 19,
   "id": "d44cedc2",
   "metadata": {},
   "outputs": [],
   "source": [
    "np.save('obj_values.npy', obj_values)"
   ]
  },
  {
   "cell_type": "code",
   "execution_count": 24,
   "id": "2f3704cd",
   "metadata": {},
   "outputs": [],
   "source": [
    "ci = np.zeros((2, obj_values.shape[1]))\n",
    "\n",
    "for i in range(obj_values.shape[1]-1):\n",
    "    ci[:, i] = st.t.interval(0.95, obj_values.shape[0] - 1, loc=np.mean(obj_values[:, i]), scale=st.sem(obj_values[:, i]))"
   ]
  },
  {
   "cell_type": "code",
   "execution_count": 23,
   "id": "651b5ca5",
   "metadata": {},
   "outputs": [
    {
     "name": "stdout",
     "output_type": "stream",
     "text": [
      "[[0.90631502 0.90087839 0.90838665 ... 0.89943442 0.90445793 0.        ]\n",
      " [0.9072769  0.89806819 0.90222165 ... 0.9008737  0.90456298 0.        ]\n",
      " [0.89700599 0.91184989 0.91350415 ... 0.90566043 0.90215478 0.        ]\n",
      " ...\n",
      " [0.89520621 0.90191557 0.90315213 ... 0.89989301 0.90650299 0.        ]\n",
      " [0.89713465 0.88808607 0.90667035 ... 0.90445002 0.90201392 0.        ]\n",
      " [0.89043894 0.90407693 0.90779063 ... 0.89760611 0.91110588 0.        ]]\n"
     ]
    }
   ],
   "source": [
    "print(obj_values)"
   ]
  },
  {
   "cell_type": "code",
   "execution_count": 25,
   "id": "ce45fd3d",
   "metadata": {},
   "outputs": [
    {
     "name": "stdout",
     "output_type": "stream",
     "text": [
      "[[0.90148393 0.90207185 0.9022008  0.90206005 0.9026187  0.90264527\n",
      "  0.90223743 0.90231771 0.9022216  0.        ]\n",
      " [0.90298233 0.90312048 0.90303968 0.90277849 0.9032818  0.90328243\n",
      "  0.90279606 0.90284593 0.90276503 0.        ]]\n"
     ]
    }
   ],
   "source": [
    "print(ci)"
   ]
  },
  {
   "cell_type": "code",
   "execution_count": 26,
   "id": "428df5c2",
   "metadata": {},
   "outputs": [],
   "source": [
    "extremes = np.zeros((2, obj_values.shape[1] - 1))"
   ]
  },
  {
   "cell_type": "code",
   "execution_count": 27,
   "id": "1e96e4cf",
   "metadata": {},
   "outputs": [],
   "source": [
    "for i in range(obj_values.shape[1] - 1):\n",
    "    extremes[0, i] = np.max(obj_values[:, i])\n",
    "    extremes[1, i] = np.min(obj_values[:, i])"
   ]
  },
  {
   "cell_type": "code",
   "execution_count": 31,
   "id": "12e3a9fd",
   "metadata": {},
   "outputs": [
    {
     "data": {
      "text/plain": [
       "[<matplotlib.lines.Line2D at 0x7fe399a09100>]"
      ]
     },
     "execution_count": 31,
     "metadata": {},
     "output_type": "execute_result"
    },
    {
     "data": {
      "image/png": "[encoded data removed]",
      "text/plain": [
       "<Figure size 432x288 with 1 Axes>"
      ]
     },
     "metadata": {
      "needs_background": "light"
     },
     "output_type": "display_data"
    }
   ],
   "source": [
    "xvals = list(range(1000, 10000, 1000))\n",
    "\n",
    "plt.plot(xvals, extremes[0, :])\n",
    "plt.plot(xvals, extremes[1, :])\n",
    "plt.plot(xvals, np.mean(obj_values[:, :-1], axis=0))"
   ]
  },
  {
   "cell_type": "code",
   "execution_count": null,
   "id": "1ed3f3f9",
   "metadata": {},
   "outputs": [],
   "source": []
  }
 ],
 "metadata": {
  "kernelspec": {
   "display_name": "Python 3",
   "language": "python",
   "name": "python3"
  },
  "language_info": {
   "codemirror_mode": {
    "name": "ipython",
    "version": 3
   },
   "file_extension": ".py",
   "mimetype": "text/x-python",
   "name": "python",
   "nbconvert_exporter": "python",
   "pygments_lexer": "ipython3",
   "version": "3.9.5"
  }
 },
 "nbformat": 4,
 "nbformat_minor": 5
}
